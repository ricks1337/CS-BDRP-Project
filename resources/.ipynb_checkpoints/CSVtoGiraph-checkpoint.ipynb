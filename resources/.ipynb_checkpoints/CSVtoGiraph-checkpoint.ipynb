{
 "cells": [
  {
   "cell_type": "code",
   "execution_count": 1,
   "metadata": {},
   "outputs": [],
   "source": [
    "import pandas as pd\n",
    "\n",
    "#filename = \"soc-sign-bitcoinalpha\"\n",
    "#filename = \"soc-sign-bitcoinotc\"\n",
    "#filename = \"soc-sign-epinions\"\n",
    "#filename = \"SPN\"\n",
    "filename = \"GGSN\"\n",
    "\n",
    "file = pd.read_csv(filename+\".csv\")\n",
    "filename += \"-Giraph\"\n",
    "\n",
    "graph = file.values.tolist()"
   ]
  },
  {
   "cell_type": "code",
   "execution_count": 2,
   "metadata": {},
   "outputs": [],
   "source": [
    "def transform(filename):\n",
    "    file_writer = open(filename+\".txt\",\"w\")\n",
    "    currNode = graph[0][0]\n",
    "    currNeigh = graph[0][1]\n",
    "    output = \"[\" + str(currNode) + \",0,[[\" + str(currNeigh)\n",
    "\n",
    "    for line in range(len(graph)):\n",
    "        if(graph[line][0] == currNode):\n",
    "            if(graph[line][1] == currNeigh):\n",
    "                if(graph[(line+1)%len(graph)][0] != currNode or graph[(line+1)%len(graph)][1] != currNeigh):\n",
    "                    output += \",\" + str(graph[line][2]) + \"]\"\n",
    "            else:\n",
    "                output += \",[\" + str(graph[line][1])\n",
    "                if(graph[(line+1)%len(graph)][0] != currNode or graph[(line+1)%len(graph)][1] != currNeigh):\n",
    "                    output += \",\" + str(graph[line][2]) + \"]\"\n",
    "        else:\n",
    "            currNode = graph[line][0]\n",
    "            currNeigh = graph[line][1]\n",
    "            output += \"]\\n[\" + str(currNode) + \",0,[[\" + str(currNeigh)\n",
    "            if(graph[(line+1)%len(graph)][0] != currNode or graph[(line+1)%len(graph)][1] != currNeigh):\n",
    "                output += \",\" + str(graph[line][2]) + \"]\"\n",
    "    output += \"]\"\n",
    "    file_writer.write(output)\n",
    "    file_writer.close()\n",
    "\n",
    "transform(filename)"
   ]
  },
  {
   "cell_type": "code",
   "execution_count": null,
   "metadata": {},
   "outputs": [],
   "source": []
  }
 ],
 "metadata": {
  "kernelspec": {
   "display_name": "Python 3",
   "language": "python",
   "name": "python3"
  },
  "language_info": {
   "codemirror_mode": {
    "name": "ipython",
    "version": 3
   },
   "file_extension": ".py",
   "mimetype": "text/x-python",
   "name": "python",
   "nbconvert_exporter": "python",
   "pygments_lexer": "ipython3",
   "version": "3.7.2"
  }
 },
 "nbformat": 4,
 "nbformat_minor": 2
}
